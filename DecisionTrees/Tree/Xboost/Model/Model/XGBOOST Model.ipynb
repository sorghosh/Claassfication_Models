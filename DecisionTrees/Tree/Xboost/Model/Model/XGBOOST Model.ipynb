{
 "cells": [
  {
   "cell_type": "markdown",
   "metadata": {},
   "source": [
    "# Important Notes XGBoost"
   ]
  },
  {
   "cell_type": "raw",
   "metadata": {},
   "source": [
    "# -*- coding: utf-8 -*-\n",
    "\"\"\"\n",
    "Created on Sat Dec  8 10:17:51 2018\n",
    "\n",
    "@author: saughosh\n",
    "\"\"\"\n",
    "\n",
    "\"\"\"\n",
    "The overall parameters have been divided into 3 categories by XGBoost authors:\n",
    "\n",
    "1.General Parameters: Guide the overall functioning\n",
    "2.Booster Parameters: Guide the individual booster (tree/regression) at each step\n",
    "3. Learning Task Parameters: Guide the optimization performed\n",
    "\n",
    "1.General Parameters\n",
    "\n",
    "These define the overall functionality of XGBoost.\n",
    " 1.booster [default=gbtree]\n",
    "   Select the type of model to run at each iteration. It has 2 options:\n",
    "      gbtree: tree-based models\n",
    "      gblinear: linear models\n",
    " \n",
    "  2.silent [default=0]:\n",
    "      Silent mode is activated is set to 1, i.e. no running messages will be printed.It’s generally good to keep it 0 as the messages might help in understanding the model.\n",
    "\n",
    "  3.nthread [default to maximum number of threads available if not set] :This is used for parallel processing and number of cores in the system should be entered\n",
    "  If you wish to run on all cores, value should not be entered and algorithm will detect automatically\n",
    "  There are 2 more parameters which are set automatically by XGBoost and you need not worry about them. Lets move on to Booster parameters.\n",
    "\n",
    " \n",
    "\n",
    "2.Booster Parameters :\n",
    "    Though there are 2 types of boosters, I’ll consider only tree booster here because it always outperforms the linear booster and thus the later is rarely used.\n",
    "\n",
    "    1:eta [default=0.3] :\n",
    "        Analogous to learning rate in GBM\n",
    "        Makes the model more robust by shrinking the weights on each step\n",
    "        Typical final values to be used: 0.01-0.2\n",
    "        \n",
    "    2.min_child_weight [default=1] :\n",
    "        1.Defines the minimum sum of weights of all observations required in a child.\n",
    "        2.This is similar to min_child_leaf in GBM but not exactly. This refers to min “sum of weights” of observations while GBM has min “number of observations”.\n",
    "        3.Used to control over-fitting. Higher values prevent a model from learning relations which might be highly specific to the particular sample selected for a tree.\n",
    "          Too high values can lead to under-fitting hence, it should be tuned using CV.\n",
    "\n",
    "    3.max_depth [default=6] :\n",
    "        1.The maximum depth of a tree, same as GBM.\n",
    "        2.Used to control over-fitting as higher depth will allow model to learn relations very specific to a particular sample.\n",
    "        3.Should be tuned using CV.\n",
    "        4.Typical values: 3-10\n",
    "\n",
    "    4.max_leaf_nodes :\n",
    "        1.The maximum number of terminal nodes or leaves in a tree.\n",
    "        2.Can be defined in place of max_depth. Since binary trees are created, a depth of ‘n’ would produce a maximum of 2^n leaves.\n",
    "        3.If this is defined, GBM will ignore max_depth.\n",
    "\n",
    "    5.gamma [default=0] :\n",
    "        1.A node is split only when the resulting split gives a positive reduction in the loss function. Gamma specifies the minimum loss reduction required to make a split.\n",
    "        2.Makes the algorithm conservative. The values can vary depending on the loss function and should be tuned.\n",
    "\n",
    "    6.max_delta_step [default=0] :\n",
    "        1.In maximum delta step we allow each tree’s weight estimation to be. If the value is set to 0, it means there is no constraint. If it is set to a positive value, it can help making the update step more conservative.\n",
    "        2.Usually this parameter is not needed, but it might help in logistic regression when class is extremely imbalanced.\n",
    "          This is generally not used but you can explore further if you wish.\n",
    "\n",
    "    7.subsample [default=1] :\n",
    "        1.Same as the subsample of GBM. Denotes the fraction of observations to be randomly samples for each tree.\n",
    "        2.Lower values make the algorithm more conservative and prevents overfitting but too small values might lead to under-fitting.\n",
    "        3.Typical values: 0.5-1\n",
    "\n",
    "    8.colsample_bytree [default=1] :\n",
    "        1.Similar to max_features in GBM. Denotes the fraction of columns to be randomly samples for each tree.\n",
    "        2.Typical values: 0.5-1\n",
    "\n",
    "    9.colsample_bylevel [default=1]:\n",
    "        1.Denotes the subsample ratio of columns for each split, in each level.\n",
    "        2.I don’t use this often because subsample and colsample_bytree will do the job for you. but you can explore further if you feel so.\n",
    "\n",
    "    10.lambda [default=1] :\n",
    "        1.L2 regularization term on weights (analogous to Ridge regression)\n",
    "        2.This used to handle the regularization part of XGBoost. Though many data scientists don’t use it often, it should be explored to reduce overfitting.\n",
    "\n",
    "    11.alpha [default=0] :\n",
    "        1.L1 regularization term on weight (analogous to Lasso regression)\n",
    "        2.Can be used in case of very high dimensionality so that the algorithm runs faster when implemented\n",
    "\n",
    "    12.scale_pos_weight [default=1] :\n",
    "        1.A value greater than 0 should be used in case of high class imbalance as it helps in faster convergence.\n",
    " \n",
    "\n",
    "3.Learning Task Parameters :\n",
    "    These parameters are used to define the optimization objective the metric to be calculated at each step.\n",
    "\n",
    "    1.objective [default=reg:linear]:\n",
    "        1.This defines the loss function to be minimized. Mostly used values are:\n",
    "            binary:logistic –logistic regression for binary classification, returns predicted probability (not class)\n",
    "            1.multi:softmax –multiclass classification using the softmax objective, returns predicted class (not probabilities)\n",
    "            2.you also need to set an additional num_class (number of classes) parameter defining the number of unique classes\n",
    "            3.multi:softprob –same as softmax, but returns predicted probability of each data point belonging to each class\n",
    "\n",
    "    2.eval_metric [ default according to objective ] :\n",
    "        The metric to be used for validation data.The default values are rmse for regression and error for classification.\n",
    "        Typical values are:\n",
    "            1.rmse – root mean square error\n",
    "            2.mae – mean absolute error\n",
    "            3.logloss – negative log-likelihood\n",
    "            4.error – Binary classification error rate (0.5 threshold)\n",
    "            5.merror – Multiclass classification error rate\n",
    "            6.mlogloss – Multiclass logloss\n",
    "            7.auc: Area under the curve\n",
    "\n",
    "    3.seed [default=0] :\n",
    "        The random number seed.Can be used for generating reproducible results and also for parameter tuning.\n",
    "        If you’ve been using Scikit-Learn till now, these parameter names might not look familiar. A good news is that xgboost module in python has an sklearn wrapper called XGBClassifier. It uses sklearn style naming convention. The parameters names which will change are:\n",
    "            1.eta –> learning_rate \n",
    "            2.lambda –> reg_lambda\n",
    "            3.alpha –> reg_alpha\n",
    "\n",
    "\"\"\"\n",
    "#-------------------------------------------------------------\n",
    "\"\"\"\n",
    "Overfitting & Underfitting Notes\n",
    "1.Dealing with overfitting :\n",
    "    1.use less features \n",
    "    2.use more training samples\n",
    "    3.increase regularization \n",
    "\n",
    "   In xgboost :\n",
    "    1.reduce the depth of the tree\n",
    "    2.increase the min child weight param\n",
    "    3.add more randomness using subsample , colsample_bytree param\n",
    "    4.increase lambda and alpha regularization param\n",
    "\n",
    "2.Dealing with underfitting :\n",
    "    1.add more features\n",
    "    2.decrease regualization\n",
    "    \n",
    "    In xgboost :\n",
    "    1.increase depth of the tree\n",
    "    2.decrease min child weight param\n",
    "    3.decrease gamma param\n",
    "    4.decrease alpha , lamba param\n",
    "    \n",
    "\"\"\""
   ]
  },
  {
   "cell_type": "code",
   "execution_count": 131,
   "metadata": {},
   "outputs": [],
   "source": [
    "import pandas as pd \n",
    "import numpy  as np\n",
    "import xgboost as xgb\n",
    "from sklearn.cross_validation import train_test_split\n",
    "from sklearn import metrics\n",
    "import warnings\n",
    "import matplotlib.pyplot as plt\n",
    "warnings.filterwarnings(\"ignore\")\n",
    "\n",
    "from matplotlib.pylab import rcParams\n",
    "rcParams['figure.figsize'] = 12,10"
   ]
  },
  {
   "cell_type": "code",
   "execution_count": 132,
   "metadata": {},
   "outputs": [],
   "source": [
    "dataset = pd.read_csv(r\"C:\\Users\\saughosh\\Desktop\\IMS\\Course\\DS3\\6.Machine Learning\\Algo\\Classfication\\Tree\\Xboost\\Model\\Dataset\\Model_Dataset\\train.csv\")\n",
    "predictors = [d for d in dataset.columns if d not in [\"Disbursed\"]]\n",
    "x_train, x_test, y_train,y_test = train_test_split(dataset[predictors], dataset[\"Disbursed\"], test_size = .3 , random_state = 42)\n",
    "\n",
    "###convert into xgb format \n",
    "d_train = xgb.DMatrix(x_train, label = y_train)\n",
    "d_test  = xgb.DMatrix(x_test, label = y_test)"
   ]
  },
  {
   "cell_type": "code",
   "execution_count": 133,
   "metadata": {},
   "outputs": [],
   "source": [
    "def prob_score(y_act,y_pred):\n",
    "    model_metrics = []\n",
    "    prb_range = np.linspace(0,1,100,endpoint=False)\n",
    "    for p in prb_range:\n",
    "        pred = y_pred > round(p,2)\n",
    "        confusion_metrics =  metrics.confusion_matrix(y_act,pred)\n",
    "        accuracy = metrics.accuracy_score(y_act,pred)\n",
    "        precission = metrics.precision_score(y_act,pred)\n",
    "        specitivity = confusion_metrics[0,0]/(confusion_metrics[0,0] + confusion_metrics[0,1])\n",
    "        sensitivity = confusion_metrics[1,1]/(confusion_metrics[1,1] + confusion_metrics[1,0])\n",
    "        f1 = metrics.f1_score(y_act,pred)\n",
    "        base = np.sum(pred == True)\n",
    "        metric = np.array([p,accuracy,precission,sensitivity,specitivity,f1,base])\n",
    "        model_metrics.append(metric)\n",
    "\n",
    "    model_metrics = round(pd.DataFrame(model_metrics),2)\n",
    "    model_metrics.columns = [[\"Probablity\",\"Accuracy\",\"Precission\",\"Sensitivity\",\"Specificity\",\"f1\",\"Base\"]]\n",
    "    return model_metrics"
   ]
  },
  {
   "cell_type": "code",
   "execution_count": 134,
   "metadata": {},
   "outputs": [],
   "source": [
    "def auc_score(y_act,y_pred):\n",
    "    auc_score = metrics.roc_auc_score(y_act,y_pred)\n",
    "    return auc_score\n"
   ]
  },
  {
   "cell_type": "code",
   "execution_count": 135,
   "metadata": {},
   "outputs": [],
   "source": [
    "def lift_score(dataset, pred , y):\n",
    "    dataset[\"Pred_Prob\"] = pred\n",
    "    dataset[\"Target\"] = y\n",
    "    dataset = dataset.sort_values(by = \"Pred_Prob\" , ascending = False)\n",
    "    dataset[\"Decile\"] = pd.qcut(dataset[\"Pred_Prob\"],10, labels = False)\n",
    "    lift_data  =  pd.DataFrame(dataset[\"Decile\"].value_counts())\n",
    "    lift_data  =  lift_data.sort_index(ascending = False)\n",
    "    pos_label  =  pd.DataFrame(dataset[[\"Target\",\"Decile\"]][dataset[\"Target\"] == 1].groupby(\"Decile\").count())\n",
    "    neg_label  =  pd.DataFrame(dataset[[\"Target\",\"Decile\"]][dataset[\"Target\"] == 0].groupby(\"Decile\").count())\n",
    "    lift_data  = pd.merge(lift_data , pos_label , how = \"left\" , left_index = True , right_index = True)\n",
    "    lift_data  = pd.merge(lift_data , neg_label , how = \"left\" , left_index = True , right_index = True)\n",
    "    lift_data.columns =[[\"Events\",\"Pos_Events\",\"Neg_Events\"]]\n",
    "    lift_data = lift_data.fillna(0)\n",
    "    \n",
    "    lift_data[\"Pos_Event%\"]     = lift_data[\"Pos_Events\"]/float(lift_data[\"Pos_Events\"].sum())\n",
    "    lift_data[\"Neg_Event%\"]     = lift_data[\"Neg_Events\"]/float(lift_data[\"Neg_Events\"].sum())\n",
    "    lift_data[\"Event%\"]         = round(lift_data[\"Events\"]/float(lift_data[\"Events\"].sum()),2)\n",
    "    lift_data[\"Cum_Pos_Event\"]  = lift_data[\"Pos_Event%\"].cumsum()\n",
    "    lift_data[\"Cum_Neg_Event\"]  = lift_data[\"Neg_Event%\"].cumsum()\n",
    "    lift_data[\"Cum_Event\"]      = lift_data[\"Event%\"].cumsum()\n",
    "    lift_data[\"Cumm_Lift\"]      = lift_data[\"Cum_Pos_Event\"].values/lift_data[\"Cum_Event\"].values\n",
    "    lift_data[\"KS_Stats\"]       = lift_data[\"Cum_Pos_Event\"].values - lift_data[\"Cum_Neg_Event\"].values\n",
    "    \n",
    "    return lift_data"
   ]
  },
  {
   "cell_type": "code",
   "execution_count": 136,
   "metadata": {},
   "outputs": [],
   "source": [
    "def xbg_model(params,d_train,d_test ,num_rounds):\n",
    "\n",
    "    watchlist  = [(d_test,\"test\"),(d_train,\"train\")]\n",
    "    xgb_model = xgb.train(params , d_train, num_rounds, watchlist )\n",
    "    feature_importance =  pd.DataFrame(list(xgb_model.get_fscore().values()) , index = list(xgb_model.get_fscore().keys()) ,columns= [\"Score\"])\n",
    "    feature_importance = feature_importance.sort_values(by =\"Score\", ascending= False)\n",
    "    feature_importance.plot(kind  = \"barh\")\n",
    "    plt.show()\n",
    "    y_train_predict = xgb_model.predict(d_train)\n",
    "    train_auc_score = auc_score(y_train,y_train_predict)\n",
    "    print(\"Train_AUC_Score\",train_auc_score)\n",
    "    model_metrics_train = prob_score(y_train,y_train_predict)\n",
    "    train_lift_data = lift_score(x_train,y_train_predict,y_train)\n",
    "    \n",
    "    y_test_predict = xgb_model.predict(d_test)\n",
    "    test_auc_score =  auc_score(y_test,y_test_predict)\n",
    "    print(\"Test_AUC_Score\",test_auc_score)\n",
    "    model_metrics_test = prob_score(y_test,y_test_predict)\n",
    "    test_lift_data = lift_score(x_test,y_test_predict,y_test)\n",
    "     \n",
    "    return model_metrics_train,model_metrics_test ,train_lift_data,test_lift_data"
   ]
  },
  {
   "cell_type": "markdown",
   "metadata": {},
   "source": [
    "# XGB_Model : Using XGBoost Native Features"
   ]
  },
  {
   "cell_type": "code",
   "execution_count": 137,
   "metadata": {},
   "outputs": [
    {
     "name": "stdout",
     "output_type": "stream",
     "text": [
      "[0]\ttest-error:0.015092\ttrain-error:0.01443\n",
      "[1]\ttest-error:0.015092\ttrain-error:0.01443\n",
      "[2]\ttest-error:0.015092\ttrain-error:0.01443\n",
      "[3]\ttest-error:0.015092\ttrain-error:0.01443\n",
      "[4]\ttest-error:0.015092\ttrain-error:0.01443\n",
      "[5]\ttest-error:0.015092\ttrain-error:0.01443\n",
      "[6]\ttest-error:0.015092\ttrain-error:0.01443\n",
      "[7]\ttest-error:0.015092\ttrain-error:0.01443\n",
      "[8]\ttest-error:0.015092\ttrain-error:0.01443\n",
      "[9]\ttest-error:0.015092\ttrain-error:0.01443\n",
      "[10]\ttest-error:0.015092\ttrain-error:0.01443\n",
      "[11]\ttest-error:0.015092\ttrain-error:0.01443\n",
      "[12]\ttest-error:0.015092\ttrain-error:0.01443\n",
      "[13]\ttest-error:0.015092\ttrain-error:0.01443\n",
      "[14]\ttest-error:0.015092\ttrain-error:0.01443\n",
      "[15]\ttest-error:0.015092\ttrain-error:0.01443\n",
      "[16]\ttest-error:0.015092\ttrain-error:0.01443\n",
      "[17]\ttest-error:0.015092\ttrain-error:0.01443\n",
      "[18]\ttest-error:0.015092\ttrain-error:0.01443\n",
      "[19]\ttest-error:0.015092\ttrain-error:0.01443\n",
      "[20]\ttest-error:0.015092\ttrain-error:0.01443\n",
      "[21]\ttest-error:0.015092\ttrain-error:0.01443\n",
      "[22]\ttest-error:0.015092\ttrain-error:0.01443\n",
      "[23]\ttest-error:0.015092\ttrain-error:0.01443\n",
      "[24]\ttest-error:0.015092\ttrain-error:0.01443\n",
      "[25]\ttest-error:0.015092\ttrain-error:0.01443\n",
      "[26]\ttest-error:0.015092\ttrain-error:0.01443\n",
      "[27]\ttest-error:0.015092\ttrain-error:0.01443\n",
      "[28]\ttest-error:0.015092\ttrain-error:0.01443\n",
      "[29]\ttest-error:0.015092\ttrain-error:0.01443\n",
      "[30]\ttest-error:0.015092\ttrain-error:0.01443\n",
      "[31]\ttest-error:0.015092\ttrain-error:0.01443\n",
      "[32]\ttest-error:0.015092\ttrain-error:0.01443\n",
      "[33]\ttest-error:0.015092\ttrain-error:0.01443\n",
      "[34]\ttest-error:0.015092\ttrain-error:0.01443\n",
      "[35]\ttest-error:0.015092\ttrain-error:0.01443\n",
      "[36]\ttest-error:0.015092\ttrain-error:0.01443\n",
      "[37]\ttest-error:0.015092\ttrain-error:0.01443\n",
      "[38]\ttest-error:0.015092\ttrain-error:0.01443\n",
      "[39]\ttest-error:0.015092\ttrain-error:0.01443\n",
      "[40]\ttest-error:0.015092\ttrain-error:0.01443\n",
      "[41]\ttest-error:0.015092\ttrain-error:0.01443\n",
      "[42]\ttest-error:0.015092\ttrain-error:0.01443\n",
      "[43]\ttest-error:0.015092\ttrain-error:0.01443\n",
      "[44]\ttest-error:0.015092\ttrain-error:0.01443\n",
      "[45]\ttest-error:0.015092\ttrain-error:0.01443\n",
      "[46]\ttest-error:0.015092\ttrain-error:0.01443\n",
      "[47]\ttest-error:0.015092\ttrain-error:0.01443\n",
      "[48]\ttest-error:0.015092\ttrain-error:0.01443\n",
      "[49]\ttest-error:0.015092\ttrain-error:0.01443\n",
      "[50]\ttest-error:0.015092\ttrain-error:0.01443\n",
      "[51]\ttest-error:0.015092\ttrain-error:0.01443\n",
      "[52]\ttest-error:0.015092\ttrain-error:0.01443\n",
      "[53]\ttest-error:0.015092\ttrain-error:0.01443\n",
      "[54]\ttest-error:0.015092\ttrain-error:0.01443\n",
      "[55]\ttest-error:0.015092\ttrain-error:0.01443\n",
      "[56]\ttest-error:0.015092\ttrain-error:0.01443\n",
      "[57]\ttest-error:0.015092\ttrain-error:0.01443\n",
      "[58]\ttest-error:0.015092\ttrain-error:0.01443\n",
      "[59]\ttest-error:0.015092\ttrain-error:0.01443\n",
      "[60]\ttest-error:0.015092\ttrain-error:0.01443\n",
      "[61]\ttest-error:0.015092\ttrain-error:0.01443\n",
      "[62]\ttest-error:0.015092\ttrain-error:0.01443\n",
      "[63]\ttest-error:0.015092\ttrain-error:0.01443\n",
      "[64]\ttest-error:0.015092\ttrain-error:0.01443\n",
      "[65]\ttest-error:0.015092\ttrain-error:0.01443\n",
      "[66]\ttest-error:0.015092\ttrain-error:0.01443\n",
      "[67]\ttest-error:0.015092\ttrain-error:0.01443\n",
      "[68]\ttest-error:0.015092\ttrain-error:0.01443\n",
      "[69]\ttest-error:0.015092\ttrain-error:0.01443\n",
      "[70]\ttest-error:0.015092\ttrain-error:0.01443\n",
      "[71]\ttest-error:0.015092\ttrain-error:0.01443\n",
      "[72]\ttest-error:0.015092\ttrain-error:0.01443\n",
      "[73]\ttest-error:0.015092\ttrain-error:0.01443\n",
      "[74]\ttest-error:0.015092\ttrain-error:0.01443\n",
      "[75]\ttest-error:0.015092\ttrain-error:0.01443\n",
      "[76]\ttest-error:0.015092\ttrain-error:0.01443\n",
      "[77]\ttest-error:0.015092\ttrain-error:0.01443\n",
      "[78]\ttest-error:0.015092\ttrain-error:0.01443\n",
      "[79]\ttest-error:0.015092\ttrain-error:0.01443\n",
      "[80]\ttest-error:0.015092\ttrain-error:0.01443\n",
      "[81]\ttest-error:0.015092\ttrain-error:0.01443\n",
      "[82]\ttest-error:0.015092\ttrain-error:0.01443\n",
      "[83]\ttest-error:0.015092\ttrain-error:0.01443\n",
      "[84]\ttest-error:0.015092\ttrain-error:0.01443\n",
      "[85]\ttest-error:0.015092\ttrain-error:0.01443\n",
      "[86]\ttest-error:0.015092\ttrain-error:0.01443\n",
      "[87]\ttest-error:0.015092\ttrain-error:0.01443\n",
      "[88]\ttest-error:0.015092\ttrain-error:0.01443\n",
      "[89]\ttest-error:0.015092\ttrain-error:0.01443\n",
      "[90]\ttest-error:0.015092\ttrain-error:0.01443\n",
      "[91]\ttest-error:0.015092\ttrain-error:0.01443\n",
      "[92]\ttest-error:0.015092\ttrain-error:0.01443\n",
      "[93]\ttest-error:0.015092\ttrain-error:0.01443\n",
      "[94]\ttest-error:0.015092\ttrain-error:0.01443\n",
      "[95]\ttest-error:0.015092\ttrain-error:0.01443\n",
      "[96]\ttest-error:0.015092\ttrain-error:0.01443\n",
      "[97]\ttest-error:0.015092\ttrain-error:0.01443\n",
      "[98]\ttest-error:0.015092\ttrain-error:0.01443\n",
      "[99]\ttest-error:0.015092\ttrain-error:0.01443\n"
     ]
    },
    {
     "data": {
      "image/png": "[encoded data removed]",
      "text/plain": [
       "<Figure size 864x720 with 1 Axes>"
      ]
     },
     "metadata": {},
     "output_type": "display_data"
    },
    {
     "name": "stdout",
     "output_type": "stream",
     "text": [
      "Train_AUC_Score 0.8716302862010812\n",
      "Test_AUC_Score 0.8276297642136718\n"
     ]
    }
   ],
   "source": [
    "params = {\n",
    "        'learning_rate' : 0.1,\n",
    "        'n_estimators' : 1000,\n",
    "        'max_depth' : 4,\n",
    "        'min_child_weight': 4,\n",
    "        'gamma' : 2,\n",
    "        'lambda' : 3,\n",
    "        'subsample' : 0.8,\n",
    "        'colsample_bytree' : 0.8,\n",
    "        'objective' : 'binary:logistic',\n",
    "        'nthread' :4,\n",
    "        'silent' : 1,\n",
    "        'eval_metrics' : 'auc',\n",
    "        'seed' : 27}\n",
    "num_rounds = 100\n",
    "\n",
    "train_labels = d_train.get_label()\n",
    "ratio = np.float(np.sum(train_labels == 0)/np.sum(train_labels == 1))\n",
    "params[\"scale_pos_weight\"] = 1\n",
    "#weights = np.zeros(len(y_train))\n",
    "#weights[y_train == 0] = 1\n",
    "#weights[y_train == 1] = 9\n",
    "#d_train = xgb.DMatrix(x_train, label = y_train, weight = weights)\n",
    "\n",
    "model_metrics_train,model_metrics_test ,train_lift_data,test_lift_data = xbg_model(params,d_train,d_test,num_rounds)"
   ]
  },
  {
   "cell_type": "markdown",
   "metadata": {},
   "source": [
    "# XGB_Model : Using XGBoost  + Sklearn"
   ]
  },
  {
   "cell_type": "code",
   "execution_count": 138,
   "metadata": {},
   "outputs": [],
   "source": [
    "from xgboost.sklearn import XGBClassifier\n",
    "from sklearn import cross_validation, metrics\n",
    "from sklearn.grid_search import GridSearchCV"
   ]
  },
  {
   "cell_type": "code",
   "execution_count": 145,
   "metadata": {},
   "outputs": [],
   "source": [
    "def modelfit(alg, x_train, x_test, y_train,y_test, predictors,useTrainCV=True, cv_folds=5, early_stopping_rounds=50):\n",
    "    \n",
    "    if useTrainCV:\n",
    "        xgb_param = alg.get_xgb_params()\n",
    "        xgtrain = xgb.DMatrix(x_train[predictors], label = y_train)\n",
    "        cvresult = xgb.cv(xgb_param, xgtrain, num_boost_round=alg.get_params()['n_estimators'], nfold=cv_folds,metrics='auc', early_stopping_rounds=early_stopping_rounds)\n",
    "        alg.set_params(n_estimators=cvresult.shape[0])\n",
    "    \n",
    "    #Fit the algorithm on the data\n",
    "    alg.fit(x_train[predictors], y_train,eval_metric='auc')\n",
    "        \n",
    "    #Predict training set:\n",
    "#   dtrain_predictions = alg.predict(x_train[predictors])\n",
    "    dtrain_predprob = alg.predict_proba(x_train[predictors])[:,1]\n",
    "        \n",
    "    #Print model report:\n",
    "    print (\"\\nModel Report\")\n",
    "    train_auc_score         = auc_score(y_train,dtrain_predprob)\n",
    "    model_metrics_train     = prob_score(y_train,dtrain_predprob)\n",
    "    train_lift_data         = lift_score(x_train,dtrain_predprob,y_train)\n",
    "    print (\"AUC Score (Train): %f\" % train_auc_score)\n",
    "    \n",
    "#     Predict on testing data:\n",
    "#    dtest_predictions = alg.predict(x_test[predictors])\n",
    "    dtest_predprob = alg.predict_proba(x_test[predictors])[:,1]\n",
    "    test_auc_score       = auc_score(y_test,dtest_predprob)\n",
    "    model_metrics_test   = prob_score(y_test,dtest_predprob)\n",
    "    test_lift_data       = lift_score(x_test,dtest_predprob,y_test)\n",
    "    print ('AUC Score (Test): %f' % test_auc_score)\n",
    "                \n",
    "    feat_imp = pd.DataFrame(alg.feature_importances_)\n",
    "    feat_imp.index = predictors\n",
    "    feat_imp.columns = [\"Score\"]\n",
    "    feat_imp = feat_imp.sort_values(by = \"Score\", ascending = False)\n",
    "    feat_imp.plot(kind='bar', title='Feature Importances')\n",
    "    plt.ylabel('Feature Importance Score')\n",
    "    \n",
    "    return model_metrics_train,train_lift_data,model_metrics_test,test_lift_data,alg"
   ]
  },
  {
   "cell_type": "markdown",
   "metadata": {},
   "source": [
    "# Base Model"
   ]
  },
  {
   "cell_type": "code",
   "execution_count": 146,
   "metadata": {},
   "outputs": [
    {
     "name": "stdout",
     "output_type": "stream",
     "text": [
      "\n",
      "Model Report\n",
      "AUC Score (Train): 0.901938\n",
      "AUC Score (Test): 0.828125\n"
     ]
    },
    {
     "data": {
      "image/png": "[encoded data removed]",
      "text/plain": [
       "<Figure size 864x720 with 1 Axes>"
      ]
     },
     "metadata": {},
     "output_type": "display_data"
    }
   ],
   "source": [
    "xgb1 = XGBClassifier(\n",
    "        learning_rate =0.1,\n",
    "        n_estimators=1000,\n",
    "        max_depth=5,\n",
    "        min_child_weight=1,\n",
    "        gamma=0,\n",
    "        subsample=0.8,\n",
    "        colsample_bytree=0.8,\n",
    "        objective= 'binary:logistic',\n",
    "        nthread=4,\n",
    "        scale_pos_weight=1,\n",
    "        seed=27)\n",
    "\n",
    "model_metrics_train,train_lift_data,model_metrics_test,test_lift_data,alg = modelfit(xgb1, x_train, x_test, y_train,y_test, predictors)\n"
   ]
  },
  {
   "cell_type": "code",
   "execution_count": 149,
   "metadata": {},
   "outputs": [
    {
     "data": {
      "text/plain": [
       "GridSearchCV(cv=5, error_score='raise',\n",
       "       estimator=XGBClassifier(base_score=0.5, booster='gbtree', colsample_bylevel=1,\n",
       "       colsample_bytree=0.8, gamma=0, learning_rate=0.1, max_delta_step=0,\n",
       "       max_depth=5, min_child_weight=1, missing=None, n_estimators=140,\n",
       "       n_jobs=1, nthread=4, objective='binary:logistic', random_state=0,\n",
       "       reg_alpha=0, reg_lambda=1, scale_pos_weight=1, seed=27, silent=True,\n",
       "       subsample=0.8),\n",
       "       fit_params={}, iid=False, n_jobs=4,\n",
       "       param_grid={'max_depth': array([3, 5, 7, 9]), 'min_child_weight': array([1, 3, 5])},\n",
       "       pre_dispatch='2*n_jobs', refit=True, scoring='roc_auc', verbose=0)"
      ]
     },
     "execution_count": 149,
     "metadata": {},
     "output_type": "execute_result"
    }
   ],
   "source": [
    "#Grid seach on subsample and max_features\n",
    "#Choose all predictors except target & IDcols\n",
    "param_test1 = {\n",
    "    'max_depth':np.arange(3,10,2),\n",
    "    'min_child_weight': np.arange(1,6,2)\n",
    "}\n",
    "gsearch1 = GridSearchCV(estimator = XGBClassifier(learning_rate =0.1, n_estimators=140, max_depth=5,\n",
    "                                        min_child_weight=1, gamma=0, subsample=0.8, colsample_bytree=0.8,\n",
    "                                        objective= 'binary:logistic', nthread=4, scale_pos_weight=1, seed=27), \n",
    "                       param_grid = param_test1, scoring='roc_auc',n_jobs=4,iid=False, cv=5)\n",
    "gsearch1.fit(x_train,y_train)\n"
   ]
  },
  {
   "cell_type": "code",
   "execution_count": 151,
   "metadata": {},
   "outputs": [
    {
     "data": {
      "text/plain": [
       "([mean: 1.00000, std: 0.00000, params: {'max_depth': 3, 'min_child_weight': 1},\n",
       "  mean: 1.00000, std: 0.00000, params: {'max_depth': 3, 'min_child_weight': 3},\n",
       "  mean: 1.00000, std: 0.00000, params: {'max_depth': 3, 'min_child_weight': 5},\n",
       "  mean: 1.00000, std: 0.00000, params: {'max_depth': 5, 'min_child_weight': 1},\n",
       "  mean: 1.00000, std: 0.00000, params: {'max_depth': 5, 'min_child_weight': 3},\n",
       "  mean: 1.00000, std: 0.00000, params: {'max_depth': 5, 'min_child_weight': 5},\n",
       "  mean: 1.00000, std: 0.00000, params: {'max_depth': 7, 'min_child_weight': 1},\n",
       "  mean: 1.00000, std: 0.00000, params: {'max_depth': 7, 'min_child_weight': 3},\n",
       "  mean: 1.00000, std: 0.00000, params: {'max_depth': 7, 'min_child_weight': 5},\n",
       "  mean: 1.00000, std: 0.00000, params: {'max_depth': 9, 'min_child_weight': 1},\n",
       "  mean: 1.00000, std: 0.00000, params: {'max_depth': 9, 'min_child_weight': 3},\n",
       "  mean: 1.00000, std: 0.00000, params: {'max_depth': 9, 'min_child_weight': 5}],\n",
       " {'max_depth': 3, 'min_child_weight': 1},\n",
       " 1.0)"
      ]
     },
     "execution_count": 151,
     "metadata": {},
     "output_type": "execute_result"
    }
   ],
   "source": [
    "gsearch1.grid_scores_ , gsearch1.best_params_, gsearch1.best_score_"
   ]
  },
  {
   "cell_type": "code",
   "execution_count": 153,
   "metadata": {},
   "outputs": [
    {
     "data": {
      "text/plain": [
       "GridSearchCV(cv=5, error_score='raise',\n",
       "       estimator=XGBClassifier(base_score=0.5, booster='gbtree', colsample_bylevel=1,\n",
       "       colsample_bytree=0.8, gamma=0, learning_rate=0.1, max_delta_step=0,\n",
       "       max_depth=4, min_child_weight=6, missing=None, n_estimators=177,\n",
       "       n_jobs=1, nthread=4, objective='binary:logistic', random_state=0,\n",
       "       reg_alpha=0, reg_lambda=1, scale_pos_weight=1, seed=27, silent=True,\n",
       "       subsample=0.8),\n",
       "       fit_params={}, iid=False, n_jobs=4,\n",
       "       param_grid={'subsample': [0.6, 0.7, 0.8, 0.9], 'colsample_bytree': [0.6, 0.7, 0.8, 0.9]},\n",
       "       pre_dispatch='2*n_jobs', refit=True, scoring='roc_auc', verbose=0)"
      ]
     },
     "execution_count": 153,
     "metadata": {},
     "output_type": "execute_result"
    }
   ],
   "source": [
    "param_test4 = {\n",
    "    'subsample':[i/10.0 for i in range(6,10)],\n",
    "    'colsample_bytree':[i/10.0 for i in range(6,10)]\n",
    "}\n",
    "gsearch4 = GridSearchCV(estimator = XGBClassifier( learning_rate =0.1, n_estimators=177, max_depth=4,\n",
    "                                        min_child_weight=6, gamma=0, subsample=0.8, colsample_bytree=0.8,\n",
    "                                        objective= 'binary:logistic', nthread=4, scale_pos_weight=1,seed=27), \n",
    "                       param_grid = param_test4, scoring='roc_auc',n_jobs=4,iid=False, cv=5)\n",
    "gsearch4.fit(x_train, y_train)"
   ]
  },
  {
   "cell_type": "code",
   "execution_count": 154,
   "metadata": {},
   "outputs": [
    {
     "data": {
      "text/plain": [
       "([mean: 1.00000, std: 0.00000, params: {'max_depth': 3, 'min_child_weight': 1},\n",
       "  mean: 1.00000, std: 0.00000, params: {'max_depth': 3, 'min_child_weight': 3},\n",
       "  mean: 1.00000, std: 0.00000, params: {'max_depth': 3, 'min_child_weight': 5},\n",
       "  mean: 1.00000, std: 0.00000, params: {'max_depth': 5, 'min_child_weight': 1},\n",
       "  mean: 1.00000, std: 0.00000, params: {'max_depth': 5, 'min_child_weight': 3},\n",
       "  mean: 1.00000, std: 0.00000, params: {'max_depth': 5, 'min_child_weight': 5},\n",
       "  mean: 1.00000, std: 0.00000, params: {'max_depth': 7, 'min_child_weight': 1},\n",
       "  mean: 1.00000, std: 0.00000, params: {'max_depth': 7, 'min_child_weight': 3},\n",
       "  mean: 1.00000, std: 0.00000, params: {'max_depth': 7, 'min_child_weight': 5},\n",
       "  mean: 1.00000, std: 0.00000, params: {'max_depth': 9, 'min_child_weight': 1},\n",
       "  mean: 1.00000, std: 0.00000, params: {'max_depth': 9, 'min_child_weight': 3},\n",
       "  mean: 1.00000, std: 0.00000, params: {'max_depth': 9, 'min_child_weight': 5}],\n",
       " {'max_depth': 3, 'min_child_weight': 1},\n",
       " 1.0)"
      ]
     },
     "execution_count": 154,
     "metadata": {},
     "output_type": "execute_result"
    }
   ],
   "source": [
    "gsearch1.grid_scores_ , gsearch1.best_params_, gsearch1.best_score_"
   ]
  },
  {
   "cell_type": "code",
   "execution_count": 157,
   "metadata": {},
   "outputs": [
    {
     "ename": "KeyError",
     "evalue": "0",
     "output_type": "error",
     "traceback": [
      "\u001b[1;31m---------------------------------------------------------------------------\u001b[0m",
      "\u001b[1;31mKeyError\u001b[0m                                  Traceback (most recent call last)",
      "\u001b[1;32m~\\AppData\\Local\\Continuum\\anaconda3\\lib\\site-packages\\pandas\\core\\indexes\\base.py\u001b[0m in \u001b[0;36mget_loc\u001b[1;34m(self, key, method, tolerance)\u001b[0m\n\u001b[0;32m   3062\u001b[0m             \u001b[1;32mtry\u001b[0m\u001b[1;33m:\u001b[0m\u001b[1;33m\u001b[0m\u001b[0m\n\u001b[1;32m-> 3063\u001b[1;33m                 \u001b[1;32mreturn\u001b[0m \u001b[0mself\u001b[0m\u001b[1;33m.\u001b[0m\u001b[0m_engine\u001b[0m\u001b[1;33m.\u001b[0m\u001b[0mget_loc\u001b[0m\u001b[1;33m(\u001b[0m\u001b[0mkey\u001b[0m\u001b[1;33m)\u001b[0m\u001b[1;33m\u001b[0m\u001b[0m\n\u001b[0m\u001b[0;32m   3064\u001b[0m             \u001b[1;32mexcept\u001b[0m \u001b[0mKeyError\u001b[0m\u001b[1;33m:\u001b[0m\u001b[1;33m\u001b[0m\u001b[0m\n",
      "\u001b[1;32mpandas\\_libs\\index.pyx\u001b[0m in \u001b[0;36mpandas._libs.index.IndexEngine.get_loc\u001b[1;34m()\u001b[0m\n",
      "\u001b[1;32mpandas\\_libs\\index.pyx\u001b[0m in \u001b[0;36mpandas._libs.index.IndexEngine.get_loc\u001b[1;34m()\u001b[0m\n",
      "\u001b[1;32mpandas\\_libs\\hashtable_class_helper.pxi\u001b[0m in \u001b[0;36mpandas._libs.hashtable.PyObjectHashTable.get_item\u001b[1;34m()\u001b[0m\n",
      "\u001b[1;32mpandas\\_libs\\hashtable_class_helper.pxi\u001b[0m in \u001b[0;36mpandas._libs.hashtable.PyObjectHashTable.get_item\u001b[1;34m()\u001b[0m\n",
      "\u001b[1;31mKeyError\u001b[0m: 0",
      "\nDuring handling of the above exception, another exception occurred:\n",
      "\u001b[1;31mKeyError\u001b[0m                                  Traceback (most recent call last)",
      "\u001b[1;32m<ipython-input-157-09f755f1858e>\u001b[0m in \u001b[0;36m<module>\u001b[1;34m()\u001b[0m\n\u001b[1;32m----> 1\u001b[1;33m \u001b[0mrange\u001b[0m\u001b[1;33m(\u001b[0m\u001b[0mlen\u001b[0m\u001b[1;33m(\u001b[0m\u001b[0mx_train\u001b[0m\u001b[1;33m[\u001b[0m\u001b[1;36m0\u001b[0m\u001b[1;33m]\u001b[0m\u001b[1;33m)\u001b[0m\u001b[1;33m)\u001b[0m\u001b[1;33m\u001b[0m\u001b[0m\n\u001b[0m",
      "\u001b[1;32m~\\AppData\\Local\\Continuum\\anaconda3\\lib\\site-packages\\pandas\\core\\frame.py\u001b[0m in \u001b[0;36m__getitem__\u001b[1;34m(self, key)\u001b[0m\n\u001b[0;32m   2683\u001b[0m             \u001b[1;32mreturn\u001b[0m \u001b[0mself\u001b[0m\u001b[1;33m.\u001b[0m\u001b[0m_getitem_multilevel\u001b[0m\u001b[1;33m(\u001b[0m\u001b[0mkey\u001b[0m\u001b[1;33m)\u001b[0m\u001b[1;33m\u001b[0m\u001b[0m\n\u001b[0;32m   2684\u001b[0m         \u001b[1;32melse\u001b[0m\u001b[1;33m:\u001b[0m\u001b[1;33m\u001b[0m\u001b[0m\n\u001b[1;32m-> 2685\u001b[1;33m             \u001b[1;32mreturn\u001b[0m \u001b[0mself\u001b[0m\u001b[1;33m.\u001b[0m\u001b[0m_getitem_column\u001b[0m\u001b[1;33m(\u001b[0m\u001b[0mkey\u001b[0m\u001b[1;33m)\u001b[0m\u001b[1;33m\u001b[0m\u001b[0m\n\u001b[0m\u001b[0;32m   2686\u001b[0m \u001b[1;33m\u001b[0m\u001b[0m\n\u001b[0;32m   2687\u001b[0m     \u001b[1;32mdef\u001b[0m \u001b[0m_getitem_column\u001b[0m\u001b[1;33m(\u001b[0m\u001b[0mself\u001b[0m\u001b[1;33m,\u001b[0m \u001b[0mkey\u001b[0m\u001b[1;33m)\u001b[0m\u001b[1;33m:\u001b[0m\u001b[1;33m\u001b[0m\u001b[0m\n",
      "\u001b[1;32m~\\AppData\\Local\\Continuum\\anaconda3\\lib\\site-packages\\pandas\\core\\frame.py\u001b[0m in \u001b[0;36m_getitem_column\u001b[1;34m(self, key)\u001b[0m\n\u001b[0;32m   2690\u001b[0m         \u001b[1;31m# get column\u001b[0m\u001b[1;33m\u001b[0m\u001b[1;33m\u001b[0m\u001b[0m\n\u001b[0;32m   2691\u001b[0m         \u001b[1;32mif\u001b[0m \u001b[0mself\u001b[0m\u001b[1;33m.\u001b[0m\u001b[0mcolumns\u001b[0m\u001b[1;33m.\u001b[0m\u001b[0mis_unique\u001b[0m\u001b[1;33m:\u001b[0m\u001b[1;33m\u001b[0m\u001b[0m\n\u001b[1;32m-> 2692\u001b[1;33m             \u001b[1;32mreturn\u001b[0m \u001b[0mself\u001b[0m\u001b[1;33m.\u001b[0m\u001b[0m_get_item_cache\u001b[0m\u001b[1;33m(\u001b[0m\u001b[0mkey\u001b[0m\u001b[1;33m)\u001b[0m\u001b[1;33m\u001b[0m\u001b[0m\n\u001b[0m\u001b[0;32m   2693\u001b[0m \u001b[1;33m\u001b[0m\u001b[0m\n\u001b[0;32m   2694\u001b[0m         \u001b[1;31m# duplicate columns & possible reduce dimensionality\u001b[0m\u001b[1;33m\u001b[0m\u001b[1;33m\u001b[0m\u001b[0m\n",
      "\u001b[1;32m~\\AppData\\Local\\Continuum\\anaconda3\\lib\\site-packages\\pandas\\core\\generic.py\u001b[0m in \u001b[0;36m_get_item_cache\u001b[1;34m(self, item)\u001b[0m\n\u001b[0;32m   2484\u001b[0m         \u001b[0mres\u001b[0m \u001b[1;33m=\u001b[0m \u001b[0mcache\u001b[0m\u001b[1;33m.\u001b[0m\u001b[0mget\u001b[0m\u001b[1;33m(\u001b[0m\u001b[0mitem\u001b[0m\u001b[1;33m)\u001b[0m\u001b[1;33m\u001b[0m\u001b[0m\n\u001b[0;32m   2485\u001b[0m         \u001b[1;32mif\u001b[0m \u001b[0mres\u001b[0m \u001b[1;32mis\u001b[0m \u001b[1;32mNone\u001b[0m\u001b[1;33m:\u001b[0m\u001b[1;33m\u001b[0m\u001b[0m\n\u001b[1;32m-> 2486\u001b[1;33m             \u001b[0mvalues\u001b[0m \u001b[1;33m=\u001b[0m \u001b[0mself\u001b[0m\u001b[1;33m.\u001b[0m\u001b[0m_data\u001b[0m\u001b[1;33m.\u001b[0m\u001b[0mget\u001b[0m\u001b[1;33m(\u001b[0m\u001b[0mitem\u001b[0m\u001b[1;33m)\u001b[0m\u001b[1;33m\u001b[0m\u001b[0m\n\u001b[0m\u001b[0;32m   2487\u001b[0m             \u001b[0mres\u001b[0m \u001b[1;33m=\u001b[0m \u001b[0mself\u001b[0m\u001b[1;33m.\u001b[0m\u001b[0m_box_item_values\u001b[0m\u001b[1;33m(\u001b[0m\u001b[0mitem\u001b[0m\u001b[1;33m,\u001b[0m \u001b[0mvalues\u001b[0m\u001b[1;33m)\u001b[0m\u001b[1;33m\u001b[0m\u001b[0m\n\u001b[0;32m   2488\u001b[0m             \u001b[0mcache\u001b[0m\u001b[1;33m[\u001b[0m\u001b[0mitem\u001b[0m\u001b[1;33m]\u001b[0m \u001b[1;33m=\u001b[0m \u001b[0mres\u001b[0m\u001b[1;33m\u001b[0m\u001b[0m\n",
      "\u001b[1;32m~\\AppData\\Local\\Continuum\\anaconda3\\lib\\site-packages\\pandas\\core\\internals.py\u001b[0m in \u001b[0;36mget\u001b[1;34m(self, item, fastpath)\u001b[0m\n\u001b[0;32m   4113\u001b[0m \u001b[1;33m\u001b[0m\u001b[0m\n\u001b[0;32m   4114\u001b[0m             \u001b[1;32mif\u001b[0m \u001b[1;32mnot\u001b[0m \u001b[0misna\u001b[0m\u001b[1;33m(\u001b[0m\u001b[0mitem\u001b[0m\u001b[1;33m)\u001b[0m\u001b[1;33m:\u001b[0m\u001b[1;33m\u001b[0m\u001b[0m\n\u001b[1;32m-> 4115\u001b[1;33m                 \u001b[0mloc\u001b[0m \u001b[1;33m=\u001b[0m \u001b[0mself\u001b[0m\u001b[1;33m.\u001b[0m\u001b[0mitems\u001b[0m\u001b[1;33m.\u001b[0m\u001b[0mget_loc\u001b[0m\u001b[1;33m(\u001b[0m\u001b[0mitem\u001b[0m\u001b[1;33m)\u001b[0m\u001b[1;33m\u001b[0m\u001b[0m\n\u001b[0m\u001b[0;32m   4116\u001b[0m             \u001b[1;32melse\u001b[0m\u001b[1;33m:\u001b[0m\u001b[1;33m\u001b[0m\u001b[0m\n\u001b[0;32m   4117\u001b[0m                 \u001b[0mindexer\u001b[0m \u001b[1;33m=\u001b[0m \u001b[0mnp\u001b[0m\u001b[1;33m.\u001b[0m\u001b[0marange\u001b[0m\u001b[1;33m(\u001b[0m\u001b[0mlen\u001b[0m\u001b[1;33m(\u001b[0m\u001b[0mself\u001b[0m\u001b[1;33m.\u001b[0m\u001b[0mitems\u001b[0m\u001b[1;33m)\u001b[0m\u001b[1;33m)\u001b[0m\u001b[1;33m[\u001b[0m\u001b[0misna\u001b[0m\u001b[1;33m(\u001b[0m\u001b[0mself\u001b[0m\u001b[1;33m.\u001b[0m\u001b[0mitems\u001b[0m\u001b[1;33m)\u001b[0m\u001b[1;33m]\u001b[0m\u001b[1;33m\u001b[0m\u001b[0m\n",
      "\u001b[1;32m~\\AppData\\Local\\Continuum\\anaconda3\\lib\\site-packages\\pandas\\core\\indexes\\base.py\u001b[0m in \u001b[0;36mget_loc\u001b[1;34m(self, key, method, tolerance)\u001b[0m\n\u001b[0;32m   3063\u001b[0m                 \u001b[1;32mreturn\u001b[0m \u001b[0mself\u001b[0m\u001b[1;33m.\u001b[0m\u001b[0m_engine\u001b[0m\u001b[1;33m.\u001b[0m\u001b[0mget_loc\u001b[0m\u001b[1;33m(\u001b[0m\u001b[0mkey\u001b[0m\u001b[1;33m)\u001b[0m\u001b[1;33m\u001b[0m\u001b[0m\n\u001b[0;32m   3064\u001b[0m             \u001b[1;32mexcept\u001b[0m \u001b[0mKeyError\u001b[0m\u001b[1;33m:\u001b[0m\u001b[1;33m\u001b[0m\u001b[0m\n\u001b[1;32m-> 3065\u001b[1;33m                 \u001b[1;32mreturn\u001b[0m \u001b[0mself\u001b[0m\u001b[1;33m.\u001b[0m\u001b[0m_engine\u001b[0m\u001b[1;33m.\u001b[0m\u001b[0mget_loc\u001b[0m\u001b[1;33m(\u001b[0m\u001b[0mself\u001b[0m\u001b[1;33m.\u001b[0m\u001b[0m_maybe_cast_indexer\u001b[0m\u001b[1;33m(\u001b[0m\u001b[0mkey\u001b[0m\u001b[1;33m)\u001b[0m\u001b[1;33m)\u001b[0m\u001b[1;33m\u001b[0m\u001b[0m\n\u001b[0m\u001b[0;32m   3066\u001b[0m \u001b[1;33m\u001b[0m\u001b[0m\n\u001b[0;32m   3067\u001b[0m         \u001b[0mindexer\u001b[0m \u001b[1;33m=\u001b[0m \u001b[0mself\u001b[0m\u001b[1;33m.\u001b[0m\u001b[0mget_indexer\u001b[0m\u001b[1;33m(\u001b[0m\u001b[1;33m[\u001b[0m\u001b[0mkey\u001b[0m\u001b[1;33m]\u001b[0m\u001b[1;33m,\u001b[0m \u001b[0mmethod\u001b[0m\u001b[1;33m=\u001b[0m\u001b[0mmethod\u001b[0m\u001b[1;33m,\u001b[0m \u001b[0mtolerance\u001b[0m\u001b[1;33m=\u001b[0m\u001b[0mtolerance\u001b[0m\u001b[1;33m)\u001b[0m\u001b[1;33m\u001b[0m\u001b[0m\n",
      "\u001b[1;32mpandas\\_libs\\index.pyx\u001b[0m in \u001b[0;36mpandas._libs.index.IndexEngine.get_loc\u001b[1;34m()\u001b[0m\n",
      "\u001b[1;32mpandas\\_libs\\index.pyx\u001b[0m in \u001b[0;36mpandas._libs.index.IndexEngine.get_loc\u001b[1;34m()\u001b[0m\n",
      "\u001b[1;32mpandas\\_libs\\hashtable_class_helper.pxi\u001b[0m in \u001b[0;36mpandas._libs.hashtable.PyObjectHashTable.get_item\u001b[1;34m()\u001b[0m\n",
      "\u001b[1;32mpandas\\_libs\\hashtable_class_helper.pxi\u001b[0m in \u001b[0;36mpandas._libs.hashtable.PyObjectHashTable.get_item\u001b[1;34m()\u001b[0m\n",
      "\u001b[1;31mKeyError\u001b[0m: 0"
     ]
    }
   ],
   "source": [
    "range(len(x_train[0]))"
   ]
  },
  {
   "cell_type": "code",
   "execution_count": null,
   "metadata": {},
   "outputs": [],
   "source": []
  }
 ],
 "metadata": {
  "kernelspec": {
   "display_name": "Python 3",
   "language": "python",
   "name": "python3"
  },
  "language_info": {
   "codemirror_mode": {
    "name": "ipython",
    "version": 3
   },
   "file_extension": ".py",
   "mimetype": "text/x-python",
   "name": "python",
   "nbconvert_exporter": "python",
   "pygments_lexer": "ipython3",
   "version": "3.6.5"
  }
 },
 "nbformat": 4,
 "nbformat_minor": 2
}
